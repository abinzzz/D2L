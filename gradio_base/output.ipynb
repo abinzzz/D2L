{
 "cells": [
  {
   "cell_type": "code",
   "execution_count": 4,
   "metadata": {},
   "outputs": [],
   "source": [
    "import gradio as gr\n",
    "\n",
    "import pandas as pd\n",
    "\n",
    "\n",
    "##BarPlot\n",
    "simple = pd.DataFrame({\n",
    "    \"a\":[1,2,3],\n",
    "    \"b\":[4,5,6]\n",
    "\n",
    "})\n",
    "\n",
    "\n",
    "demo = gr.Interface(fn=None,inputs=None,outputs=gr.BarPlot(simple,x=\"a\",y=\"b\"))\n",
    "\n",
    "#demo.launch()\n"
   ]
  },
  {
   "cell_type": "markdown",
   "metadata": {},
   "source": [
    "![](https://pic.imgdb.cn/item/6661cb0e5e6d1bfa051d9258.png)"
   ]
  },
  {
   "cell_type": "code",
   "execution_count": 9,
   "metadata": {},
   "outputs": [],
   "source": [
    "##Gallery\n",
    "\n",
    "def process():\n",
    "    cheetahs=[\n",
    "        \"https://pic.imgdb.cn/item/66626bfb5e6d1bfa05a30757.png\"\n",
    "    ]\n",
    "\n",
    "    return cheetahs \n",
    "\n",
    "demo = gr.Interface(fn=process,inputs=None,outputs=gr.Gallery(columns=1))\n",
    "\n",
    "#demo.launch()"
   ]
  },
  {
   "cell_type": "code",
   "execution_count": 12,
   "metadata": {},
   "outputs": [],
   "source": [
    "import numpy as np\n",
    "import matplotlib.pyplot as plt\n",
    "\n",
    "def  fig_output():\n",
    "    fs=8000\n",
    "    f=5\n",
    "    sample=10\n",
    "    x=np.arange(sample)\n",
    "    y=np.sin(2*np.pi*f*x/fs)\n",
    "\n",
    "    plt.plot(x,y)\n",
    "\n",
    "\n",
    "    return plt  \n",
    "\n",
    "demo = gr.Interface(fn=fig_output,inputs=None,outputs=gr.Plot())\n",
    "\n",
    "#demo.launch()\n",
    "\n",
    "\n",
    "\n",
    "\n"
   ]
  },
  {
   "cell_type": "markdown",
   "metadata": {},
   "source": [
    "![](https://pic.imgdb.cn/item/66626d745e6d1bfa05a490cf.png)"
   ]
  },
  {
   "cell_type": "code",
   "execution_count": 14,
   "metadata": {},
   "outputs": [],
   "source": [
    "def  fig_output():\n",
    "    fs=8000\n",
    "    f=5\n",
    "    sample=10\n",
    "    x=np.arange(sample)\n",
    "    y=np.sin(2*np.pi*f*x/fs)\n",
    "\n",
    "    plt.bar(x,y)\n",
    "\n",
    "\n",
    "    return plt  \n",
    "\n",
    "demo = gr.Interface(fn=fig_output,inputs=None,outputs=gr.Plot())\n",
    "\n",
    "#demo.launch()\n"
   ]
  },
  {
   "cell_type": "markdown",
   "metadata": {},
   "source": [
    "![](https://pic.imgdb.cn/item/66626dac5e6d1bfa05a4c7b1.png)"
   ]
  },
  {
   "cell_type": "code",
   "execution_count": 16,
   "metadata": {},
   "outputs": [],
   "source": [
    "json_sample={\n",
    "    \"name\":\"John\",\n",
    "    \"age\":30,\n",
    "    \"city\":\"New York\"\n",
    "\n",
    "}\n",
    "\n",
    "demo = gr.Interface(fn=None,inputs=None,outputs=gr.Json(json_sample))\n",
    "\n",
    "#demo.launch()"
   ]
  },
  {
   "cell_type": "markdown",
   "metadata": {},
   "source": [
    "![](https://pic.imgdb.cn/item/66626e745e6d1bfa05a58766.png)"
   ]
  },
  {
   "cell_type": "code",
   "execution_count": 19,
   "metadata": {},
   "outputs": [],
   "source": [
    "#html\n",
    "\n",
    "demo=gr.Interface(fn=None,inputs=None,outputs=gr.HTML(\"<h1> Hello World</h1>\"))\n",
    "\n",
    "#demo.launch()"
   ]
  },
  {
   "cell_type": "markdown",
   "metadata": {},
   "source": [
    "![](https://pic.imgdb.cn/item/66626ec05e6d1bfa05a5d0be.png)"
   ]
  }
 ],
 "metadata": {
  "kernelspec": {
   "display_name": "ab",
   "language": "python",
   "name": "python3"
  },
  "language_info": {
   "codemirror_mode": {
    "name": "ipython",
    "version": 3
   },
   "file_extension": ".py",
   "mimetype": "text/x-python",
   "name": "python",
   "nbconvert_exporter": "python",
   "pygments_lexer": "ipython3",
   "version": "3.11.0"
  }
 },
 "nbformat": 4,
 "nbformat_minor": 2
}
