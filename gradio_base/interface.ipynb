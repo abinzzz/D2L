{
 "cells": [
  {
   "cell_type": "code",
   "execution_count": 19,
   "metadata": {},
   "outputs": [],
   "source": [
    "import gradio as gr\n",
    "\n",
    "def greet(name):\n",
    "    return \"Hello \" + name + \"!\"\n",
    "\n",
    "iface=gr.Interface(fn=greet, inputs=\"text\", outputs=\"text\")#inputs->fn->outputs\n",
    "\n",
    "#iface.launch(share=True)"
   ]
  },
  {
   "cell_type": "markdown",
   "metadata": {},
   "source": [
    "![](https://pic.imgdb.cn/item/66618ba95e6d1bfa05d73d74.png)"
   ]
  },
  {
   "cell_type": "markdown",
   "metadata": {},
   "source": [
    "下面是关于gradio中gr.Textbox的解释："
   ]
  },
  {
   "cell_type": "code",
   "execution_count": 20,
   "metadata": {},
   "outputs": [],
   "source": [
    "##占位符文本\n",
    "\n",
    "def greet(name):\n",
    "    return \"Hello \" + name + \"!\"\n",
    "\n",
    "iface = gr.Interface(\n",
    "    fn=greet, \n",
    "    inputs=gr.Textbox(placeholder=\"Enter your name...\"), \n",
    "    outputs=gr.Textbox()\n",
    ")\n",
    "\n",
    "#iface.launch(share=True)\n"
   ]
  },
  {
   "cell_type": "markdown",
   "metadata": {},
   "source": [
    "![](https://pic.imgdb.cn/item/66618bd15e6d1bfa05d75f66.png)"
   ]
  },
  {
   "cell_type": "code",
   "execution_count": 21,
   "metadata": {},
   "outputs": [],
   "source": [
    "##限制字符长度\n",
    "import gradio as gr\n",
    "\n",
    "def greet(name):\n",
    "    return \"Hello \" + name + \"!\"\n",
    "\n",
    "iface = gr.Interface(\n",
    "    fn=greet, \n",
    "    inputs=gr.Textbox(max_lines=1), \n",
    "    outputs=gr.Textbox()\n",
    ")\n",
    "\n",
    "#iface.launch(share=True)\n"
   ]
  },
  {
   "cell_type": "code",
   "execution_count": 22,
   "metadata": {},
   "outputs": [],
   "source": [
    "\n",
    "\n",
    "def greet(name):\n",
    "    return \"Hello \" + name + \"!\"\n",
    "\n",
    "iface = gr.Interface(\n",
    "    fn=greet, \n",
    "    inputs=gr.Textbox(value=\"John Doe\"), \n",
    "    outputs=gr.Textbox()\n",
    ")\n",
    "\n",
    "#iface.launch(share=True)\n"
   ]
  },
  {
   "cell_type": "code",
   "execution_count": 23,
   "metadata": {},
   "outputs": [],
   "source": [
    "import gradio as gr\n",
    "\n",
    "def greet(name):\n",
    "    return \"Hello \" + name + \"!\"\n",
    "\n",
    "iface = gr.Interface(\n",
    "    fn=greet, \n",
    "    inputs=gr.Textbox(lines=2, placeholder=\"Enter multiple lines of text...\"), \n",
    "    outputs=gr.Textbox()\n",
    ")\n",
    "\n",
    "#iface.launch(share=True)\n"
   ]
  },
  {
   "cell_type": "markdown",
   "metadata": {},
   "source": [
    "![](https://pic.imgdb.cn/item/66618d4a5e6d1bfa05d8b6c8.png)"
   ]
  },
  {
   "cell_type": "code",
   "execution_count": 24,
   "metadata": {},
   "outputs": [],
   "source": [
    "\n",
    "\n",
    "def greet(name):\n",
    "    return \"Hello \" + name + \"!\"\n",
    "\n",
    "iface = gr.Interface(\n",
    "    fn=greet, \n",
    "    inputs=gr.Textbox(type=\"password\", placeholder=\"Enter your password\"), \n",
    "    outputs=gr.Textbox()\n",
    ")\n",
    "\n",
    "#iface.launch(share=True)\n"
   ]
  },
  {
   "cell_type": "markdown",
   "metadata": {},
   "source": [
    "![](https://pic.imgdb.cn/item/66618db95e6d1bfa05d91a0d.png)"
   ]
  },
  {
   "cell_type": "code",
   "execution_count": 27,
   "metadata": {},
   "outputs": [],
   "source": [
    "\n",
    "\n",
    "def greet(name):\n",
    "    return \"Hello \" + name + \"!\"\n",
    "\n",
    "iface = gr.Interface(\n",
    "    fn=greet, \n",
    "    inputs=gr.Textbox(label=\"Your Name\"), \n",
    "    outputs=gr.Textbox(label=\"Greeting\")\n",
    ")\n",
    "\n",
    "#iface.launch(share=True)\n"
   ]
  },
  {
   "cell_type": "markdown",
   "metadata": {},
   "source": [
    "![](https://pic.imgdb.cn/item/66618e855e6d1bfa05d9cfb8.png)"
   ]
  },
  {
   "cell_type": "markdown",
   "metadata": {},
   "source": [
    "下面将介绍使用图像作为输入："
   ]
  },
  {
   "cell_type": "code",
   "execution_count": 30,
   "metadata": {},
   "outputs": [],
   "source": [
    "import cv2\n",
    "def turn_gray(image):\n",
    "\n",
    "    gray = cv2.cvtColor(image, cv2.COLOR_BGR2GRAY)\n",
    "    return gray\n",
    "\n",
    "iface = gr.Interface(fn=turn_gray, inputs=gr.Image(), outputs=\"image\")\n",
    "# iface.launch(share=True)"
   ]
  },
  {
   "cell_type": "markdown",
   "metadata": {},
   "source": [
    "![](https://pic.imgdb.cn/item/66618fe65e6d1bfa05db10ec.png)"
   ]
  },
  {
   "cell_type": "markdown",
   "metadata": {},
   "source": [
    "下面是将音频作为输入"
   ]
  },
  {
   "cell_type": "code",
   "execution_count": 34,
   "metadata": {},
   "outputs": [],
   "source": [
    "\n",
    "import librosa\n",
    "\n",
    "def get_audio_duration(audio):\n",
    "    # # audio 是一个包含文件路径和音频数据的字典\n",
    "    # file_path = audio['name']\n",
    "    # y, sr = librosa.load(file_path)\n",
    "    # duration = librosa.get_duration(y=y, sr=sr)\n",
    "    # return \n",
    "    return audio\n",
    "\n",
    "iface = gr.Interface(\n",
    "    fn=get_audio_duration,\n",
    "    inputs=gr.Audio(type=\"filepath\", label=\"Upload an audio file\"),\n",
    "    outputs=gr.Textbox(label=\"Duration\")\n",
    ")\n",
    "\n",
    "#iface.launch(share=True)\n"
   ]
  },
  {
   "cell_type": "markdown",
   "metadata": {},
   "source": [
    "![](https://pic.imgdb.cn/item/6661913c5e6d1bfa05dc4473.png)"
   ]
  },
  {
   "cell_type": "markdown",
   "metadata": {},
   "source": [
    "下面是将多种类型作为输入"
   ]
  },
  {
   "cell_type": "code",
   "execution_count": 37,
   "metadata": {},
   "outputs": [
    {
     "name": "stderr",
     "output_type": "stream",
     "text": [
      "/Users/chenyubin/anaconda3/envs/ab/lib/python3.11/site-packages/gradio/utils.py:1007: UserWarning: Expected 1 arguments for function <function get at 0x161020cc0>, received 2.\n",
      "  warnings.warn(\n",
      "/Users/chenyubin/anaconda3/envs/ab/lib/python3.11/site-packages/gradio/utils.py:1015: UserWarning: Expected maximum 1 arguments for function <function get at 0x161020cc0>, received 2.\n",
      "  warnings.warn(\n"
     ]
    }
   ],
   "source": [
    "\n",
    "def get(audio):\n",
    "    # # audio 是一个包含文件路径和音频数据的字典\n",
    "    # file_path = audio['name']\n",
    "    # y, sr = librosa.load(file_path)\n",
    "    # duration = librosa.get_duration(y=y, sr=sr)\n",
    "    # return \n",
    "    return audio\n",
    "\n",
    "iface = gr.Interface(\n",
    "    fn=get,\n",
    "    inputs=[gr.Audio(type=\"filepath\", label=\"Upload an audio file\"),gr.Textbox(label=\"Duration\")],\n",
    "    outputs=gr.Textbox(label=\"Duration\")\n",
    ")\n",
    "#iface.launch(share=True)"
   ]
  },
  {
   "cell_type": "markdown",
   "metadata": {},
   "source": [
    "![](https://pic.imgdb.cn/item/6661920d5e6d1bfa05dd06d9.png)"
   ]
  }
 ],
 "metadata": {
  "kernelspec": {
   "display_name": "ab",
   "language": "python",
   "name": "python3"
  },
  "language_info": {
   "codemirror_mode": {
    "name": "ipython",
    "version": 3
   },
   "file_extension": ".py",
   "mimetype": "text/x-python",
   "name": "python",
   "nbconvert_exporter": "python",
   "pygments_lexer": "ipython3",
   "version": "3.11.0"
  }
 },
 "nbformat": 4,
 "nbformat_minor": 2
}
