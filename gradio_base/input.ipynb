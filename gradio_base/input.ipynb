{
 "cells": [
  {
   "cell_type": "code",
   "execution_count": 10,
   "metadata": {},
   "outputs": [],
   "source": [
    "import gradio as gr\n",
    " \n",
    "input_list=[\n",
    "  gr.Audio(type=\"filepath\", label=\"Upload Audio File\"),\n",
    "  gr.Checkbox(label=\"Use Noise Reduction\"),\n",
    "  gr.ColorPicker(label=\"Select Color\"),\n",
    "  gr.DataFrame(label=\"Upload CSV\"),\n",
    "  gr.Dropdown(choices=[\"a\", \"b\", \"c\"]),\n",
    "  gr.File(label=\"Upload File\",type=\"binary\"),\n",
    "  gr.Image(type=\"pil\", label=\"Upload Image\",sources=[\"webcam\", \"upload\"]),\n",
    "  gr.Number(label=\"Enter Number\"),\n",
    "  gr.Radio(choices=[\"a\", \"b\", \"c\"]),\n",
    "  gr.Slider(minimum=0, maximum=100),\n",
    "  gr.Textbox(label=\"Enter Text\",lines=5, placeholder=\"Enter text here\"),\n",
    "  gr.TextArea(label=\"Enter Text\", placeholder=\"Enter text here\"),\n",
    "  gr.Video(label=\"Upload Video File\")\n",
    "\n",
    "\n",
    "]\n",
    "\n",
    "\n",
    "output_list=[\n",
    "  gr.Textbox(label=\"Audio\",lines=5),\n",
    "    gr.Textbox(label=\"Checkbox\"),\n",
    "    gr.Textbox(label=\"Color\"),\n",
    "    gr.Textbox(label=\"DataFrame\"),\n",
    "    gr.Textbox(label=\"Dropdown\"),\n",
    "    gr.Textbox(label=\"File\"),\n",
    "    gr.Textbox(label=\"Image\"),\n",
    "    gr.Textbox(label=\"Number\"),\n",
    "    gr.Textbox(label=\"Radio\"),\n",
    "    gr.Textbox(label=\"Slider\"),\n",
    "    gr.Textbox(label=\"Textbox\"),\n",
    "    gr.Textbox(label=\"TextArea\"),\n",
    "    gr.Textbox(label=\"Video\")\n",
    "\n",
    "\n",
    "]\n",
    "\n",
    "def demo_function(*input_file):\n",
    "    # return audio, checkbox, color, dataframe, dropdown, file, image, number, radio, slider, textbox, textarea, video\n",
    "    return input_file\n",
    "\n",
    "iface = gr.Interface(fn=demo_function, inputs=input_list, outputs=output_list)\n",
    "\n",
    "#iface.launch(share=True)\n"
   ]
  },
  {
   "cell_type": "markdown",
   "metadata": {},
   "source": [
    "![](https://pic.imgdb.cn/item/6661c70b5e6d1bfa05185026.png)"
   ]
  }
 ],
 "metadata": {
  "kernelspec": {
   "display_name": "ab",
   "language": "python",
   "name": "python3"
  },
  "language_info": {
   "codemirror_mode": {
    "name": "ipython",
    "version": 3
   },
   "file_extension": ".py",
   "mimetype": "text/x-python",
   "name": "python",
   "nbconvert_exporter": "python",
   "pygments_lexer": "ipython3",
   "version": "3.11.0"
  }
 },
 "nbformat": 4,
 "nbformat_minor": 2
}
