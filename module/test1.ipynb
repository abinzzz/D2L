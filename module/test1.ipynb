{
 "cells": [
  {
   "cell_type": "code",
   "execution_count": 1,
   "metadata": {},
   "outputs": [],
   "source": [
    "import torch\n",
    "import torch.nn as nn\n",
    "import torch.nn.functional as F # nn.functional.py中存放激活函数等的实现\n",
    " \n",
    "@torch.no_grad()#初始化模型避免计算梯度\n",
    "def init_weights(m):\n",
    "    print(\"xxxx:\", m)\n",
    "    if type(m) == nn.Linear:#初始化线性层的权重\n",
    "         m.weight.fill_(1.0)\n",
    "         print(\"yyyy:\", m.weight)\n",
    " \n",
    "class Model(nn.Module):\n",
    "    def __init__(self):\n",
    "        # 在实现自己的__init__函数时,为了正确初始化自定义的神经网络模块,一定要先调用super().__init__\n",
    "        super(Model, self).__init__()\n",
    "        self.conv1 = nn.Conv2d(1, 20, 5) # submodule(child module)\n",
    "        self.conv2 = nn.Conv2d(20, 20, 5)\n",
    "        self.add_module(\"conv3\", nn.Conv2d(10, 40, 5)) # 添加一个submodule到当前module,等价于self.conv3 = nn.Conv2d(10, 40, 5)\n",
    "        \n",
    "        self.register_buffer(\"buffer\", torch.randn([2,3])) # 给module添加一个presistent(持久的) buffer\n",
    "\n",
    "        self.param1 = nn.Parameter(torch.rand([1])) # module参数的tensor 静态\n",
    "        self.register_parameter(\"param2\", nn.Parameter(torch.rand([1]))) # 向module添加参数  动态\n",
    " \n",
    "        # nn.Sequential: 顺序容器,module将按照它们在构造函数中传递的顺序添加,它允许将整个容器视为单个module\n",
    "        self.feature = nn.Sequential(nn.Linear(2, 2), nn.Linear(2, 2))\n",
    "        self.feature.apply(init_weights) # 将fn递归应用于每个submodule,典型用途为初始化模型参数\n",
    "        self.feature.to(torch.double) # 将参数数据类型转换为double\n",
    "        cpu = torch.device(\"cpu\")\n",
    "        self.feature.to(cpu) # 将参数数据转换到cpu设备上\n",
    " \n",
    "    def forward(self, x):\n",
    "       x = F.relu(self.conv1(x))"
   ]
  },
  {
   "cell_type": "code",
   "execution_count": 2,
   "metadata": {},
   "outputs": [
    {
     "name": "stdout",
     "output_type": "stream",
     "text": [
      "xxxx: Linear(in_features=2, out_features=2, bias=True)\n",
      "yyyy: Parameter containing:\n",
      "tensor([[1., 1.],\n",
      "        [1., 1.]], requires_grad=True)\n",
      "xxxx: Linear(in_features=2, out_features=2, bias=True)\n",
      "yyyy: Parameter containing:\n",
      "tensor([[1., 1.],\n",
      "        [1., 1.]], requires_grad=True)\n",
      "xxxx: Sequential(\n",
      "  (0): Linear(in_features=2, out_features=2, bias=True)\n",
      "  (1): Linear(in_features=2, out_features=2, bias=True)\n",
      ")\n",
      "## Model: Model(\n",
      "  (conv1): Conv2d(1, 20, kernel_size=(5, 5), stride=(1, 1))\n",
      "  (conv2): Conv2d(20, 20, kernel_size=(5, 5), stride=(1, 1))\n",
      "  (conv3): Conv2d(10, 40, kernel_size=(5, 5), stride=(1, 1))\n",
      "  (feature): Sequential(\n",
      "    (0): Linear(in_features=2, out_features=2, bias=True)\n",
      "    (1): Linear(in_features=2, out_features=2, bias=True)\n",
      "  )\n",
      ")\n"
     ]
    }
   ],
   "source": [
    "model = Model()\n",
    "print(\"## Model:\", model)"
   ]
  },
  {
   "cell_type": "code",
   "execution_count": 5,
   "metadata": {},
   "outputs": [
    {
     "name": "stdout",
     "output_type": "stream",
     "text": [
      "Model device: cpu\n"
     ]
    }
   ],
   "source": [
    "model.cpu() # 将所有模型参数和buffers移动到CPU上\n",
    "print(\"Model device:\", next(model.parameters()).device) "
   ]
  },
  {
   "cell_type": "code",
   "execution_count": 6,
   "metadata": {},
   "outputs": [
    {
     "name": "stdout",
     "output_type": "stream",
     "text": [
      "Parameter dtype: torch.float32\n"
     ]
    }
   ],
   "source": [
    "# 将模型参数转换为float数据类型\n",
    "model.float()\n",
    "print(\"Parameter dtype:\", next(model.parameters()).dtype)  # 打印模型参数的数据类型"
   ]
  },
  {
   "cell_type": "code",
   "execution_count": 10,
   "metadata": {},
   "outputs": [],
   "source": [
    "model.zero_grad() # 将所有模型参数的梯度设置为零\n"
   ]
  },
  {
   "cell_type": "code",
   "execution_count": 11,
   "metadata": {},
   "outputs": [
    {
     "name": "stdout",
     "output_type": "stream",
     "text": [
      "## state_dict: odict_keys(['param1', 'param2', 'buffer', 'conv1.weight', 'conv1.bias', 'conv2.weight', 'conv2.bias', 'conv3.weight', 'conv3.bias', 'feature.0.weight', 'feature.0.bias', 'feature.1.weight', 'feature.1.bias'])\n"
     ]
    }
   ],
   "source": [
    "# state_dict:返回一个字典,保存着module的所有状态,参数和persistent buffers都会包含在字典中,字典的key就是参数和buffer的names\n",
    "print(\"## state_dict:\", model.state_dict().keys())"
   ]
  },
  {
   "cell_type": "code",
   "execution_count": 12,
   "metadata": {},
   "outputs": [
    {
     "name": "stdout",
     "output_type": "stream",
     "text": [
      "## named_buffers: name: buffer; buffers size: torch.Size([2, 3])\n"
     ]
    }
   ],
   "source": [
    "for name, buffers in model.named_buffers(): # 返回module的buffers的迭代器,产生(yield)buffer的名称以及buffer本身\n",
    "    print(f\"## named_buffers: name: {name}; buffers size: {buffers.size()}\")\n"
   ]
  },
  {
   "cell_type": "code",
   "execution_count": 13,
   "metadata": {},
   "outputs": [
    {
     "name": "stdout",
     "output_type": "stream",
     "text": [
      "## children: Conv2d(1, 20, kernel_size=(5, 5), stride=(1, 1))\n",
      "## children: Conv2d(20, 20, kernel_size=(5, 5), stride=(1, 1))\n",
      "## children: Conv2d(10, 40, kernel_size=(5, 5), stride=(1, 1))\n",
      "## children: Sequential(\n",
      "  (0): Linear(in_features=2, out_features=2, bias=True)\n",
      "  (1): Linear(in_features=2, out_features=2, bias=True)\n",
      ")\n"
     ]
    }
   ],
   "source": [
    "for children in model.children():\n",
    "    print(\"## children:\", children)"
   ]
  },
  {
   "cell_type": "code",
   "execution_count": 14,
   "metadata": {},
   "outputs": [
    {
     "name": "stdout",
     "output_type": "stream",
     "text": [
      "## named_children: name: conv1 children: Conv2d(1, 20, kernel_size=(5, 5), stride=(1, 1))\n",
      "## named_children: name: conv2 children: Conv2d(20, 20, kernel_size=(5, 5), stride=(1, 1))\n",
      "## named_children: name: conv3 children: Conv2d(10, 40, kernel_size=(5, 5), stride=(1, 1))\n",
      "## named_children: name: feature children: Sequential(\n",
      "  (0): Linear(in_features=2, out_features=2, bias=True)\n",
      "  (1): Linear(in_features=2, out_features=2, bias=True)\n",
      ")\n"
     ]
    }
   ],
   "source": [
    "for name,children in model.named_children():\n",
    "    print(\"## named_children: name:\", name, \"children:\", children)"
   ]
  },
  {
   "cell_type": "code",
   "execution_count": 15,
   "metadata": {},
   "outputs": [
    {
     "name": "stdout",
     "output_type": "stream",
     "text": [
      "## modules: Model(\n",
      "  (conv1): Conv2d(1, 20, kernel_size=(5, 5), stride=(1, 1))\n",
      "  (conv2): Conv2d(20, 20, kernel_size=(5, 5), stride=(1, 1))\n",
      "  (conv3): Conv2d(10, 40, kernel_size=(5, 5), stride=(1, 1))\n",
      "  (feature): Sequential(\n",
      "    (0): Linear(in_features=2, out_features=2, bias=True)\n",
      "    (1): Linear(in_features=2, out_features=2, bias=True)\n",
      "  )\n",
      ")\n",
      "## modules: Conv2d(1, 20, kernel_size=(5, 5), stride=(1, 1))\n",
      "## modules: Conv2d(20, 20, kernel_size=(5, 5), stride=(1, 1))\n",
      "## modules: Conv2d(10, 40, kernel_size=(5, 5), stride=(1, 1))\n",
      "## modules: Sequential(\n",
      "  (0): Linear(in_features=2, out_features=2, bias=True)\n",
      "  (1): Linear(in_features=2, out_features=2, bias=True)\n",
      ")\n",
      "## modules: Linear(in_features=2, out_features=2, bias=True)\n",
      "## modules: Linear(in_features=2, out_features=2, bias=True)\n"
     ]
    }
   ],
   "source": [
    "for moudles in model.modules():\n",
    "    print(\"## modules:\", moudles)"
   ]
  },
  {
   "cell_type": "code",
   "execution_count": 16,
   "metadata": {},
   "outputs": [
    {
     "name": "stdout",
     "output_type": "stream",
     "text": [
      "## named_modules: name:  modules: Model(\n",
      "  (conv1): Conv2d(1, 20, kernel_size=(5, 5), stride=(1, 1))\n",
      "  (conv2): Conv2d(20, 20, kernel_size=(5, 5), stride=(1, 1))\n",
      "  (conv3): Conv2d(10, 40, kernel_size=(5, 5), stride=(1, 1))\n",
      "  (feature): Sequential(\n",
      "    (0): Linear(in_features=2, out_features=2, bias=True)\n",
      "    (1): Linear(in_features=2, out_features=2, bias=True)\n",
      "  )\n",
      ")\n",
      "## named_modules: name: conv1 modules: Conv2d(1, 20, kernel_size=(5, 5), stride=(1, 1))\n",
      "## named_modules: name: conv2 modules: Conv2d(20, 20, kernel_size=(5, 5), stride=(1, 1))\n",
      "## named_modules: name: conv3 modules: Conv2d(10, 40, kernel_size=(5, 5), stride=(1, 1))\n",
      "## named_modules: name: feature modules: Sequential(\n",
      "  (0): Linear(in_features=2, out_features=2, bias=True)\n",
      "  (1): Linear(in_features=2, out_features=2, bias=True)\n",
      ")\n",
      "## named_modules: name: feature.0 modules: Linear(in_features=2, out_features=2, bias=True)\n",
      "## named_modules: name: feature.1 modules: Linear(in_features=2, out_features=2, bias=True)\n"
     ]
    }
   ],
   "source": [
    "for name,modules in model.named_modules():\n",
    "    print(\"## named_modules: name:\", name, \"modules:\", modules)"
   ]
  },
  {
   "cell_type": "code",
   "execution_count": 17,
   "metadata": {},
   "outputs": [
    {
     "data": {
      "text/plain": [
       "Model(\n",
       "  (conv1): Conv2d(1, 20, kernel_size=(5, 5), stride=(1, 1))\n",
       "  (conv2): Conv2d(20, 20, kernel_size=(5, 5), stride=(1, 1))\n",
       "  (conv3): Conv2d(10, 40, kernel_size=(5, 5), stride=(1, 1))\n",
       "  (feature): Sequential(\n",
       "    (0): Linear(in_features=2, out_features=2, bias=True)\n",
       "    (1): Linear(in_features=2, out_features=2, bias=True)\n",
       "  )\n",
       ")"
      ]
     },
     "execution_count": 17,
     "metadata": {},
     "output_type": "execute_result"
    }
   ],
   "source": [
    "model.train() # 将模型设置为训练模式"
   ]
  },
  {
   "cell_type": "code",
   "execution_count": 18,
   "metadata": {},
   "outputs": [
    {
     "data": {
      "text/plain": [
       "Model(\n",
       "  (conv1): Conv2d(1, 20, kernel_size=(5, 5), stride=(1, 1))\n",
       "  (conv2): Conv2d(20, 20, kernel_size=(5, 5), stride=(1, 1))\n",
       "  (conv3): Conv2d(10, 40, kernel_size=(5, 5), stride=(1, 1))\n",
       "  (feature): Sequential(\n",
       "    (0): Linear(in_features=2, out_features=2, bias=True)\n",
       "    (1): Linear(in_features=2, out_features=2, bias=True)\n",
       "  )\n",
       ")"
      ]
     },
     "execution_count": 18,
     "metadata": {},
     "output_type": "execute_result"
    }
   ],
   "source": [
    "model.eval() # 将模型设置为评估模式 "
   ]
  }
 ],
 "metadata": {
  "kernelspec": {
   "display_name": "ab",
   "language": "python",
   "name": "python3"
  },
  "language_info": {
   "codemirror_mode": {
    "name": "ipython",
    "version": 3
   },
   "file_extension": ".py",
   "mimetype": "text/x-python",
   "name": "python",
   "nbconvert_exporter": "python",
   "pygments_lexer": "ipython3",
   "version": "3.11.0"
  }
 },
 "nbformat": 4,
 "nbformat_minor": 2
}
