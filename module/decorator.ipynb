{
 "cells": [
  {
   "cell_type": "code",
   "execution_count": 1,
   "metadata": {},
   "outputs": [],
   "source": [
    "import torch\n",
    "import torch.nn as nn\n",
    "\n",
    "# 定义一个简单的神经网络模型\n",
    "class SimpleModel(nn.Module):\n",
    "    def __init__(self):\n",
    "        super(SimpleModel, self).__init__()\n",
    "        self.linear = nn.Linear(1, 1)\n",
    "\n",
    "    def forward(self, x):\n",
    "        return self.linear(x)\n"
   ]
  },
  {
   "cell_type": "code",
   "execution_count": 2,
   "metadata": {},
   "outputs": [
    {
     "name": "stdout",
     "output_type": "stream",
     "text": [
      "Testing with @torch.no_grad() decorator:\n",
      "Before updating weights:\n",
      "Weight: Parameter containing:\n",
      "tensor([[0.3450]], requires_grad=True)\n",
      "After updating weights:\n",
      "Weight: Parameter containing:\n",
      "tensor([[2.]], requires_grad=True)\n"
     ]
    }
   ],
   "source": [
    "\n",
    "# 使用@torch.no_grad()装饰器的函数\n",
    "@torch.no_grad()\n",
    "def no_grad_function():\n",
    "    model = SimpleModel()\n",
    "    print(\"Before updating weights:\")\n",
    "    print(\"Weight:\", model.linear.weight)\n",
    "    # 在no_grad_function中，即使对权重进行了更改，也不会被记录\n",
    "    model.linear.weight.fill_(2.0)\n",
    "    print(\"After updating weights:\")\n",
    "    print(\"Weight:\", model.linear.weight)\n",
    "\n",
    "\n",
    "print(\"Testing with @torch.no_grad() decorator:\")\n",
    "no_grad_function()\n"
   ]
  },
  {
   "cell_type": "code",
   "execution_count": 4,
   "metadata": {},
   "outputs": [
    {
     "name": "stdout",
     "output_type": "stream",
     "text": [
      "\n",
      "Testing without @torch.no_grad() decorator:\n",
      "Before updating weights:\n",
      "Weight: Parameter containing:\n",
      "tensor([[-0.6426]], requires_grad=True)\n"
     ]
    },
    {
     "ename": "RuntimeError",
     "evalue": "a leaf Variable that requires grad is being used in an in-place operation.",
     "output_type": "error",
     "traceback": [
      "\u001b[0;31m---------------------------------------------------------------------------\u001b[0m",
      "\u001b[0;31mRuntimeError\u001b[0m                              Traceback (most recent call last)",
      "Cell \u001b[0;32mIn[4], line 11\u001b[0m\n\u001b[1;32m      8\u001b[0m     \u001b[38;5;28mprint\u001b[39m(\u001b[38;5;124m\"\u001b[39m\u001b[38;5;124mWeight:\u001b[39m\u001b[38;5;124m\"\u001b[39m, model\u001b[38;5;241m.\u001b[39mlinear\u001b[38;5;241m.\u001b[39mweight)\n\u001b[1;32m     10\u001b[0m \u001b[38;5;28mprint\u001b[39m(\u001b[38;5;124m\"\u001b[39m\u001b[38;5;130;01m\\n\u001b[39;00m\u001b[38;5;124mTesting without @torch.no_grad() decorator:\u001b[39m\u001b[38;5;124m\"\u001b[39m)\n\u001b[0;32m---> 11\u001b[0m \u001b[43mnormal_function\u001b[49m\u001b[43m(\u001b[49m\u001b[43m)\u001b[49m\n",
      "Cell \u001b[0;32mIn[4], line 6\u001b[0m, in \u001b[0;36mnormal_function\u001b[0;34m()\u001b[0m\n\u001b[1;32m      4\u001b[0m \u001b[38;5;28mprint\u001b[39m(\u001b[38;5;124m\"\u001b[39m\u001b[38;5;124mBefore updating weights:\u001b[39m\u001b[38;5;124m\"\u001b[39m)\n\u001b[1;32m      5\u001b[0m \u001b[38;5;28mprint\u001b[39m(\u001b[38;5;124m\"\u001b[39m\u001b[38;5;124mWeight:\u001b[39m\u001b[38;5;124m\"\u001b[39m, model\u001b[38;5;241m.\u001b[39mlinear\u001b[38;5;241m.\u001b[39mweight)\n\u001b[0;32m----> 6\u001b[0m \u001b[43mmodel\u001b[49m\u001b[38;5;241;43m.\u001b[39;49m\u001b[43mlinear\u001b[49m\u001b[38;5;241;43m.\u001b[39;49m\u001b[43mweight\u001b[49m\u001b[38;5;241;43m.\u001b[39;49m\u001b[43mfill_\u001b[49m\u001b[43m(\u001b[49m\u001b[38;5;241;43m2.0\u001b[39;49m\u001b[43m)\u001b[49m\n\u001b[1;32m      7\u001b[0m \u001b[38;5;28mprint\u001b[39m(\u001b[38;5;124m\"\u001b[39m\u001b[38;5;124mAfter updating weights:\u001b[39m\u001b[38;5;124m\"\u001b[39m)\n\u001b[1;32m      8\u001b[0m \u001b[38;5;28mprint\u001b[39m(\u001b[38;5;124m\"\u001b[39m\u001b[38;5;124mWeight:\u001b[39m\u001b[38;5;124m\"\u001b[39m, model\u001b[38;5;241m.\u001b[39mlinear\u001b[38;5;241m.\u001b[39mweight)\n",
      "\u001b[0;31mRuntimeError\u001b[0m: a leaf Variable that requires grad is being used in an in-place operation."
     ]
    }
   ],
   "source": [
    "# 不使用@torch.no_grad()装饰器的函数\n",
    "def normal_function():\n",
    "    model = SimpleModel()\n",
    "    print(\"Before updating weights:\")\n",
    "    print(\"Weight:\", model.linear.weight)\n",
    "    model.linear.weight.fill_(2.0)\n",
    "    print(\"After updating weights:\")\n",
    "    print(\"Weight:\", model.linear.weight)\n",
    "\n",
    "print(\"\\nTesting without @torch.no_grad() decorator:\")\n",
    "normal_function()"
   ]
  }
 ],
 "metadata": {
  "kernelspec": {
   "display_name": "ab",
   "language": "python",
   "name": "python3"
  },
  "language_info": {
   "codemirror_mode": {
    "name": "ipython",
    "version": 3
   },
   "file_extension": ".py",
   "mimetype": "text/x-python",
   "name": "python",
   "nbconvert_exporter": "python",
   "pygments_lexer": "ipython3",
   "version": "3.11.0"
  }
 },
 "nbformat": 4,
 "nbformat_minor": 2
}
